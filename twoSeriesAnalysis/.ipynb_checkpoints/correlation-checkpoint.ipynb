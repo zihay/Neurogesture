{
 "cells": [
  {
   "cell_type": "markdown",
   "metadata": {},
   "source": [
    "# Load Data:"
   ]
  },
  {
   "cell_type": "code",
   "execution_count": 12,
   "metadata": {},
   "outputs": [],
   "source": [
    "from util import *\n",
    "import matplotlib.pyplot as plt\n",
    "import numpy as np\n",
    "from matplotlib.ticker import MaxNLocator\n",
    "from collections import namedtuple\n",
    "\n",
    "def flatmap(array):\n",
    "    return [e for l in array for e in l]"
   ]
  },
  {
   "cell_type": "code",
   "execution_count": 2,
   "metadata": {},
   "outputs": [],
   "source": [
    "VID_SCORE = [[13, 15, 14, 16, 19, 4],[10, 14, 14, 13, 18, 8],[18, 14, 16, 11, 6, 6]]\n",
    "VID_SCORE_TOTAL = [[20, 20, 20, 20, 20, 20], [20, 20, 20, 20, 20, 20], [20, 20, 20, 20, 20, 20]]\n",
    "\n",
    "\n",
    "VID_SCORE_DUAL = [[16, 12, 10, 14, 13, 10],[17, 17, 19, 11, 20, 4],[16, 17, 14, 13, 8, 7]]\n",
    "\n",
    "VID_SCORE_SINGLE = [[20, 13, 12, 14, 19, 9],[12, 15, 10, 8, 16, 3],[12, 18, 14, 12, 2, 7]]\n",
    "\n",
    "\n",
    "\n",
    "bi = [\n",
    "    'metaphoric',\n",
    "    'beats',\n",
    "    'beats',\n",
    "    'deictics',\n",
    "    'deictics',\n",
    "    'iconic'\n",
    "]\n",
    "\n",
    "ps = [\n",
    "    'metaphoric',\n",
    "    'metaphoric',\n",
    "    'deictics',\n",
    "    'iconic',\n",
    "    'metaphoric',\n",
    "    'beats'\n",
    "]\n",
    "\n",
    "ta = ['metaphoric',\n",
    "      'metaphoric',\n",
    "      'beats',\n",
    "      'beats',\n",
    "      'beats',\n",
    "      'metaphoric']\n"
   ]
  },
  {
   "cell_type": "code",
   "execution_count": 9,
   "metadata": {},
   "outputs": [
    {
     "name": "stdout",
     "output_type": "stream",
     "text": [
      "['metaphoric', 'beats', 'beats', 'deictics', 'deictics', 'iconic', 'metaphoric', 'metaphoric', 'deictics', 'iconic', 'metaphoric', 'beats', 'metaphoric', 'metaphoric', 'beats', 'beats', 'beats', 'metaphoric']\n",
      "[13, 15, 14, 16, 19, 4, 10, 14, 14, 13, 18, 8, 18, 14, 16, 11, 6, 6]\n"
     ]
    }
   ],
   "source": [
    "all_ges = bi + ps + ta\n",
    "full_score = flatmap(VID_SCORE)\n",
    "full_num = 20\n",
    "dual_score = flatmap(VID_SCORE_DUAL)\n",
    "dual_num = 21\n",
    "single_score = flatmap(VID_SCORE_SINGLE)\n",
    "single_num = 22\n",
    "print(all_ges)\n",
    "print(full_score)"
   ]
  },
  {
   "cell_type": "markdown",
   "metadata": {},
   "source": [
    "## metaphoric:"
   ]
  },
  {
   "cell_type": "code",
   "execution_count": 11,
   "metadata": {},
   "outputs": [
    {
     "data": {
      "text/plain": [
       "7"
      ]
     },
     "execution_count": 11,
     "metadata": {},
     "output_type": "execute_result"
    }
   ],
   "source": [
    "all_ges.count('metaphoric')"
   ]
  },
  {
   "cell_type": "code",
   "execution_count": null,
   "metadata": {},
   "outputs": [],
   "source": [
    "def plot_barchart(type):\n",
    "    num = all_ges.count(type)\n",
    "    index = np.arange(num)\n",
    "    \n",
    "    full = [full_score[i] for i,t in enumerate(all_ges) if t==type]\n",
    "    dual = [dual_score[i] for i,t in enumerate(all_ges) if t==type]\n",
    "    single = [single_score[i] for i,t in enumerate(all_ges) if t==type]\n",
    "    \n",
    "    full = np.array(full)\n",
    "    dual = np.array(dual)\n",
    "    single = np.array(single)\n",
    "    \n",
    "    full /= full_num\n",
    "    dual /= dual_num\n",
    "    single /= single_num\n",
    "    \n",
    "    fig, ax = plt.subplots()\n",
    "    rects1 = ax.bar(index, full, bar_width,\n",
    "                alpha=opacity, color='b',\n",
    "                label='Full')\n",
    "    rects2 = ax.bar(index + bar_width, dual, bar_width,\n",
    "                alpha=opacity, color='r',\n",
    "                label='Dual')\n",
    "    rects3 = ax.bar(index + bar_width + bar_width, single, bar_width,\n",
    "                alpha=opacity, color='g',\n",
    "                label='Single')\n",
    "    ax.set_xlabel('Gestures')\n",
    "    ax.set_ylabel('Scores')\n",
    "    ax.set_title('Gestures & Scores')\n",
    "    ax.set_xticks(index + bar_width / 2)\n",
    "    ax.set_xticklabels([*result])\n",
    "    ax.legend()\n",
    "\n",
    "    fig.tight_layout()\n",
    "    plt.show()"
   ]
  }
 ],
 "metadata": {
  "kernelspec": {
   "display_name": "Python 3",
   "language": "python",
   "name": "python3"
  },
  "language_info": {
   "codemirror_mode": {
    "name": "ipython",
    "version": 3
   },
   "file_extension": ".py",
   "mimetype": "text/x-python",
   "name": "python",
   "nbconvert_exporter": "python",
   "pygments_lexer": "ipython3",
   "version": "3.7.1"
  }
 },
 "nbformat": 4,
 "nbformat_minor": 2
}
